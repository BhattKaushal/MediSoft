{
 "cells": [
  {
   "cell_type": "markdown",
   "id": "82cc30d3-a50b-4dfa-9b35-8f8f54b05f46",
   "metadata": {},
   "source": [
    "# Convolutional Neural Network"
   ]
  },
  {
   "cell_type": "code",
   "execution_count": 1,
   "id": "a4c7badc-1e9f-4ede-a2ff-90118ee240ab",
   "metadata": {},
   "outputs": [],
   "source": [
    "import tensorflow as tf\n",
    "from tensorflow.keras.preprocessing.image import ImageDataGenerator"
   ]
  },
  {
   "cell_type": "code",
   "execution_count": 2,
   "id": "48513611-e5c1-4054-bee7-f94f7047aac7",
   "metadata": {},
   "outputs": [
    {
     "data": {
      "text/plain": [
       "'2.19.0'"
      ]
     },
     "execution_count": 2,
     "metadata": {},
     "output_type": "execute_result"
    }
   ],
   "source": [
    "tf.__version__"
   ]
  },
  {
   "cell_type": "markdown",
   "id": "179bd6c8-bb62-46f0-a5df-aea07674ce1b",
   "metadata": {},
   "source": [
    "## Part 1 - Data Preprocessing"
   ]
  },
  {
   "cell_type": "markdown",
   "id": "f12b973d-5337-4805-9720-62ec2c52e638",
   "metadata": {},
   "source": [
    "### Preprocessing the training set "
   ]
  },
  {
   "cell_type": "code",
   "execution_count": 18,
   "id": "9441693c-2a28-47fb-bb62-9901b53d8677",
   "metadata": {},
   "outputs": [
    {
     "name": "stdout",
     "output_type": "stream",
     "text": [
      "Found 16374 images belonging to 2 classes.\n"
     ]
    }
   ],
   "source": [
    "train_datagen = ImageDataGenerator(\n",
    "    rescale = 1./255,\n",
    "    shear_range=0.2,\n",
    "    zoom_range=0.2,\n",
    "    horizontal_flip=True\n",
    ")\n",
    "train_set = train_datagen.flow_from_directory(\n",
    "    'data/training_set',\n",
    "    target_size=(64,64),\n",
    "    batch_size=32,\n",
    "    class_mode='binary'\n",
    ")"
   ]
  },
  {
   "cell_type": "markdown",
   "id": "1d9c94f6-d4ef-42f8-9a6e-ed35c31f8b26",
   "metadata": {},
   "source": [
    "### Preprocessing the test set"
   ]
  },
  {
   "cell_type": "code",
   "execution_count": 19,
   "id": "f63137fe-4d0d-429a-a069-5fcefc3228cb",
   "metadata": {},
   "outputs": [
    {
     "name": "stdout",
     "output_type": "stream",
     "text": [
      "Found 4340 images belonging to 2 classes.\n"
     ]
    }
   ],
   "source": [
    "test_datagen = ImageDataGenerator(rescale=1./255)\n",
    "test_set = test_datagen.flow_from_directory(\n",
    "    'data/test_set',\n",
    "    target_size = (64,64),\n",
    "    batch_size=32,\n",
    "    class_mode='binary'\n",
    ")"
   ]
  },
  {
   "cell_type": "markdown",
   "id": "493e3584-ab35-4005-932a-fcec8ed06cc5",
   "metadata": {},
   "source": [
    "## Part 2 - Building the CNN"
   ]
  },
  {
   "cell_type": "markdown",
   "id": "b24c5a26-399a-45d1-8578-456f584735fb",
   "metadata": {},
   "source": [
    "### Initialising the CNN"
   ]
  },
  {
   "cell_type": "code",
   "execution_count": 20,
   "id": "f44b601e-217e-4a2f-8939-08cdbd54b8d2",
   "metadata": {},
   "outputs": [],
   "source": [
    "cnn = tf.keras.models.Sequential()"
   ]
  },
  {
   "cell_type": "markdown",
   "id": "808019e6-5662-45bd-9928-bae756f26aa4",
   "metadata": {},
   "source": [
    "### step 1 - convolution"
   ]
  },
  {
   "cell_type": "code",
   "execution_count": 21,
   "id": "ef277754-40c9-4192-9596-2e4003947f1e",
   "metadata": {},
   "outputs": [],
   "source": [
    "cnn.add(tf.keras.layers.Conv2D(filters=32,kernel_size=3,activation='relu',input_shape=(64,64,3)))"
   ]
  },
  {
   "cell_type": "markdown",
   "id": "65331428-f116-4e6a-8b88-43e26ac8128f",
   "metadata": {},
   "source": [
    "### step 2 - Pooling"
   ]
  },
  {
   "cell_type": "code",
   "execution_count": 22,
   "id": "a986d681-405b-4d2a-9eb7-b9360ec8fe35",
   "metadata": {},
   "outputs": [],
   "source": [
    "cnn.add(tf.keras.layers.MaxPool2D(pool_size=2,strides=2))"
   ]
  },
  {
   "cell_type": "markdown",
   "id": "3681fc1e-9046-4344-ba7c-83e0763dfa8b",
   "metadata": {},
   "source": [
    "### Adding the second convolutional layer"
   ]
  },
  {
   "cell_type": "code",
   "execution_count": 23,
   "id": "be067a33-ef1c-4995-b7da-7915ce8ac12b",
   "metadata": {},
   "outputs": [],
   "source": [
    "cnn.add(tf.keras.layers.Conv2D(filters=32,kernel_size=3,activation='relu'))\n",
    "cnn.add(tf.keras.layers.MaxPool2D(pool_size=2,strides=2))"
   ]
  },
  {
   "cell_type": "markdown",
   "id": "5b1a3ef9-f086-4e38-a505-a7cbd5c14f6f",
   "metadata": {},
   "source": [
    "### step 3 - Flatting"
   ]
  },
  {
   "cell_type": "code",
   "execution_count": 24,
   "id": "407c1c95-9b14-4992-93f7-170c5a896a05",
   "metadata": {},
   "outputs": [],
   "source": [
    "cnn.add(tf.keras.layers.Flatten())"
   ]
  },
  {
   "cell_type": "markdown",
   "id": "f1e904d4-0d09-4cda-81bd-a2d4010b5889",
   "metadata": {},
   "source": [
    "### step 4 - Full Connections"
   ]
  },
  {
   "cell_type": "code",
   "execution_count": 25,
   "id": "d3e20bca-a82f-4ad5-8103-b907adf8381f",
   "metadata": {},
   "outputs": [],
   "source": [
    "cnn.add(tf.keras.layers.Dense(units=128,activation='relu'))"
   ]
  },
  {
   "cell_type": "markdown",
   "id": "f34549f1-5a3c-45ad-beb3-8df3c2a636c0",
   "metadata": {},
   "source": [
    "### step 5 - Output layers"
   ]
  },
  {
   "cell_type": "code",
   "execution_count": 26,
   "id": "e90e333c-0990-4188-996b-8444dd8dec37",
   "metadata": {},
   "outputs": [],
   "source": [
    "cnn.add(tf.keras.layers.Dense(units=1,activation='sigmoid'))"
   ]
  },
  {
   "cell_type": "markdown",
   "id": "673e329f-9b29-48c1-a8da-84af3a593c98",
   "metadata": {},
   "source": [
    "## Part 3 - Training the CNN"
   ]
  },
  {
   "cell_type": "markdown",
   "id": "7979c203-47d6-4e29-801b-4337340a5406",
   "metadata": {},
   "source": [
    "### Compiling the CNN"
   ]
  },
  {
   "cell_type": "code",
   "execution_count": 27,
   "id": "c7beb9e2-aa74-4477-b0b9-83c265771e0c",
   "metadata": {},
   "outputs": [],
   "source": [
    "cnn.compile(optimizer='adam',loss='binary_crossentropy',metrics=['accuracy'])"
   ]
  },
  {
   "cell_type": "markdown",
   "id": "8799b176-49e3-4402-8359-848d545e3221",
   "metadata": {},
   "source": [
    "### Training the CNN on the training set and evaluating it on the test set"
   ]
  },
  {
   "cell_type": "code",
   "execution_count": 28,
   "id": "010b0fda-87e9-476d-bd51-01a37c37680f",
   "metadata": {},
   "outputs": [
    {
     "name": "stdout",
     "output_type": "stream",
     "text": [
      "Epoch 1/25\n",
      "\u001b[1m512/512\u001b[0m \u001b[32m━━━━━━━━━━━━━━━━━━━━\u001b[0m\u001b[37m\u001b[0m \u001b[1m182s\u001b[0m 351ms/step - accuracy: 0.7000 - loss: 0.5654 - val_accuracy: 0.6440 - val_loss: 0.6741\n",
      "Epoch 2/25\n",
      "\u001b[1m512/512\u001b[0m \u001b[32m━━━━━━━━━━━━━━━━━━━━\u001b[0m\u001b[37m\u001b[0m \u001b[1m92s\u001b[0m 179ms/step - accuracy: 0.7892 - loss: 0.4463 - val_accuracy: 0.6889 - val_loss: 0.7145\n",
      "Epoch 3/25\n",
      "\u001b[1m512/512\u001b[0m \u001b[32m━━━━━━━━━━━━━━━━━━━━\u001b[0m\u001b[37m\u001b[0m \u001b[1m96s\u001b[0m 188ms/step - accuracy: 0.8186 - loss: 0.3885 - val_accuracy: 0.6740 - val_loss: 0.7317\n",
      "Epoch 4/25\n",
      "\u001b[1m512/512\u001b[0m \u001b[32m━━━━━━━━━━━━━━━━━━━━\u001b[0m\u001b[37m\u001b[0m \u001b[1m94s\u001b[0m 184ms/step - accuracy: 0.8415 - loss: 0.3441 - val_accuracy: 0.7253 - val_loss: 0.5808\n",
      "Epoch 5/25\n",
      "\u001b[1m512/512\u001b[0m \u001b[32m━━━━━━━━━━━━━━━━━━━━\u001b[0m\u001b[37m\u001b[0m \u001b[1m94s\u001b[0m 183ms/step - accuracy: 0.8429 - loss: 0.3314 - val_accuracy: 0.7058 - val_loss: 0.6489\n",
      "Epoch 6/25\n",
      "\u001b[1m512/512\u001b[0m \u001b[32m━━━━━━━━━━━━━━━━━━━━\u001b[0m\u001b[37m\u001b[0m \u001b[1m91s\u001b[0m 178ms/step - accuracy: 0.8570 - loss: 0.3044 - val_accuracy: 0.7862 - val_loss: 0.5104\n",
      "Epoch 7/25\n",
      "\u001b[1m512/512\u001b[0m \u001b[32m━━━━━━━━━━━━━━━━━━━━\u001b[0m\u001b[37m\u001b[0m \u001b[1m91s\u001b[0m 178ms/step - accuracy: 0.8620 - loss: 0.3036 - val_accuracy: 0.7578 - val_loss: 0.5982\n",
      "Epoch 8/25\n",
      "\u001b[1m512/512\u001b[0m \u001b[32m━━━━━━━━━━━━━━━━━━━━\u001b[0m\u001b[37m\u001b[0m \u001b[1m91s\u001b[0m 178ms/step - accuracy: 0.8698 - loss: 0.2889 - val_accuracy: 0.7938 - val_loss: 0.4752\n",
      "Epoch 9/25\n",
      "\u001b[1m512/512\u001b[0m \u001b[32m━━━━━━━━━━━━━━━━━━━━\u001b[0m\u001b[37m\u001b[0m \u001b[1m94s\u001b[0m 183ms/step - accuracy: 0.8757 - loss: 0.2744 - val_accuracy: 0.7297 - val_loss: 0.6175\n",
      "Epoch 10/25\n",
      "\u001b[1m512/512\u001b[0m \u001b[32m━━━━━━━━━━━━━━━━━━━━\u001b[0m\u001b[37m\u001b[0m \u001b[1m97s\u001b[0m 190ms/step - accuracy: 0.8750 - loss: 0.2845 - val_accuracy: 0.8071 - val_loss: 0.4211\n",
      "Epoch 11/25\n",
      "\u001b[1m512/512\u001b[0m \u001b[32m━━━━━━━━━━━━━━━━━━━━\u001b[0m\u001b[37m\u001b[0m \u001b[1m92s\u001b[0m 179ms/step - accuracy: 0.8773 - loss: 0.2692 - val_accuracy: 0.7714 - val_loss: 0.5143\n",
      "Epoch 12/25\n",
      "\u001b[1m512/512\u001b[0m \u001b[32m━━━━━━━━━━━━━━━━━━━━\u001b[0m\u001b[37m\u001b[0m \u001b[1m91s\u001b[0m 178ms/step - accuracy: 0.8819 - loss: 0.2582 - val_accuracy: 0.7707 - val_loss: 0.5457\n",
      "Epoch 13/25\n",
      "\u001b[1m512/512\u001b[0m \u001b[32m━━━━━━━━━━━━━━━━━━━━\u001b[0m\u001b[37m\u001b[0m \u001b[1m91s\u001b[0m 178ms/step - accuracy: 0.8862 - loss: 0.2484 - val_accuracy: 0.7581 - val_loss: 0.6858\n",
      "Epoch 14/25\n",
      "\u001b[1m512/512\u001b[0m \u001b[32m━━━━━━━━━━━━━━━━━━━━\u001b[0m\u001b[37m\u001b[0m \u001b[1m91s\u001b[0m 178ms/step - accuracy: 0.8871 - loss: 0.2483 - val_accuracy: 0.7498 - val_loss: 0.6584\n",
      "Epoch 15/25\n",
      "\u001b[1m512/512\u001b[0m \u001b[32m━━━━━━━━━━━━━━━━━━━━\u001b[0m\u001b[37m\u001b[0m \u001b[1m92s\u001b[0m 180ms/step - accuracy: 0.8926 - loss: 0.2384 - val_accuracy: 0.7654 - val_loss: 0.6308\n",
      "Epoch 16/25\n",
      "\u001b[1m512/512\u001b[0m \u001b[32m━━━━━━━━━━━━━━━━━━━━\u001b[0m\u001b[37m\u001b[0m \u001b[1m92s\u001b[0m 179ms/step - accuracy: 0.8958 - loss: 0.2414 - val_accuracy: 0.7332 - val_loss: 0.7882\n",
      "Epoch 17/25\n",
      "\u001b[1m512/512\u001b[0m \u001b[32m━━━━━━━━━━━━━━━━━━━━\u001b[0m\u001b[37m\u001b[0m \u001b[1m91s\u001b[0m 178ms/step - accuracy: 0.8965 - loss: 0.2361 - val_accuracy: 0.7710 - val_loss: 0.7463\n",
      "Epoch 18/25\n",
      "\u001b[1m512/512\u001b[0m \u001b[32m━━━━━━━━━━━━━━━━━━━━\u001b[0m\u001b[37m\u001b[0m \u001b[1m92s\u001b[0m 179ms/step - accuracy: 0.8966 - loss: 0.2304 - val_accuracy: 0.7532 - val_loss: 0.9393\n",
      "Epoch 19/25\n",
      "\u001b[1m512/512\u001b[0m \u001b[32m━━━━━━━━━━━━━━━━━━━━\u001b[0m\u001b[37m\u001b[0m \u001b[1m94s\u001b[0m 183ms/step - accuracy: 0.9081 - loss: 0.2143 - val_accuracy: 0.7373 - val_loss: 1.0053\n",
      "Epoch 20/25\n",
      "\u001b[1m512/512\u001b[0m \u001b[32m━━━━━━━━━━━━━━━━━━━━\u001b[0m\u001b[37m\u001b[0m \u001b[1m93s\u001b[0m 181ms/step - accuracy: 0.9081 - loss: 0.2085 - val_accuracy: 0.7608 - val_loss: 0.8668\n",
      "Epoch 21/25\n",
      "\u001b[1m512/512\u001b[0m \u001b[32m━━━━━━━━━━━━━━━━━━━━\u001b[0m\u001b[37m\u001b[0m \u001b[1m92s\u001b[0m 179ms/step - accuracy: 0.9045 - loss: 0.2152 - val_accuracy: 0.8097 - val_loss: 0.5686\n",
      "Epoch 22/25\n",
      "\u001b[1m512/512\u001b[0m \u001b[32m━━━━━━━━━━━━━━━━━━━━\u001b[0m\u001b[37m\u001b[0m \u001b[1m92s\u001b[0m 179ms/step - accuracy: 0.9095 - loss: 0.2086 - val_accuracy: 0.7696 - val_loss: 1.0694\n",
      "Epoch 23/25\n",
      "\u001b[1m512/512\u001b[0m \u001b[32m━━━━━━━━━━━━━━━━━━━━\u001b[0m\u001b[37m\u001b[0m \u001b[1m92s\u001b[0m 179ms/step - accuracy: 0.9010 - loss: 0.2231 - val_accuracy: 0.7509 - val_loss: 1.1414\n",
      "Epoch 24/25\n",
      "\u001b[1m512/512\u001b[0m \u001b[32m━━━━━━━━━━━━━━━━━━━━\u001b[0m\u001b[37m\u001b[0m \u001b[1m92s\u001b[0m 179ms/step - accuracy: 0.9169 - loss: 0.1921 - val_accuracy: 0.7924 - val_loss: 0.8456\n",
      "Epoch 25/25\n",
      "\u001b[1m512/512\u001b[0m \u001b[32m━━━━━━━━━━━━━━━━━━━━\u001b[0m\u001b[37m\u001b[0m \u001b[1m91s\u001b[0m 179ms/step - accuracy: 0.9147 - loss: 0.1948 - val_accuracy: 0.7512 - val_loss: 0.9224\n"
     ]
    },
    {
     "data": {
      "text/plain": [
       "<keras.src.callbacks.history.History at 0x223e0320e00>"
      ]
     },
     "execution_count": 28,
     "metadata": {},
     "output_type": "execute_result"
    }
   ],
   "source": [
    "cnn.fit(x = train_set,validation_data=test_set,epochs=25)"
   ]
  },
  {
   "cell_type": "markdown",
   "id": "7e3f8696-0fcd-4ce1-8b8a-2067cd50c03a",
   "metadata": {},
   "source": [
    "## Part 4 - Making the single prediction"
   ]
  },
  {
   "cell_type": "code",
   "execution_count": 29,
   "id": "660ad0bf-0470-41eb-8e20-6f736f73adfe",
   "metadata": {},
   "outputs": [
    {
     "name": "stdout",
     "output_type": "stream",
     "text": [
      "\u001b[1m1/1\u001b[0m \u001b[32m━━━━━━━━━━━━━━━━━━━━\u001b[0m\u001b[37m\u001b[0m \u001b[1m0s\u001b[0m 84ms/step\n"
     ]
    }
   ],
   "source": [
    "import numpy as np\n",
    "from tensorflow.keras.preprocessing import image\n",
    "test_image = image.load_img('data/single_prediction/I1.jpg',target_size=(64,64))\n",
    "test_image = image.img_to_array(test_image) # pil formate convert into the numpy 2D array\n",
    "test_image = np.expand_dims(test_image,axis=0)\n",
    "result = cnn.predict(test_image)\n",
    "train_set.class_indices\n",
    "if result[0][0] == 1:\n",
    "    prediction = 'Melanocytic_Nevi'\n",
    "else:\n",
    "    prediction = 'Melanoma'"
   ]
  },
  {
   "cell_type": "code",
   "execution_count": 30,
   "id": "ef9d9500-f3df-4aef-9c95-7036395ce2fd",
   "metadata": {},
   "outputs": [
    {
     "name": "stdout",
     "output_type": "stream",
     "text": [
      "Melanoma\n"
     ]
    }
   ],
   "source": [
    "print(prediction)"
   ]
  },
  {
   "cell_type": "code",
   "execution_count": 31,
   "id": "b2d2fd1f-a4b7-4adc-8934-f6cd630e5457",
   "metadata": {},
   "outputs": [
    {
     "name": "stderr",
     "output_type": "stream",
     "text": [
      "WARNING:absl:You are saving your model as an HDF5 file via `model.save()` or `keras.saving.save_model(model)`. This file format is considered legacy. We recommend using instead the native Keras format, e.g. `model.save('my_model.keras')` or `keras.saving.save_model(model, 'my_model.keras')`. \n",
      "WARNING:absl:Compiled the loaded model, but the compiled metrics have yet to be built. `model.compile_metrics` will be empty until you train or evaluate the model.\n"
     ]
    }
   ],
   "source": [
    "from tensorflow.keras.models import load_model\n",
    "cnn.save(\"CNN.h5\")\n",
    "loaded_model = load_model(\"CNN.h5\")"
   ]
  },
  {
   "cell_type": "code",
   "execution_count": null,
   "id": "e5e81ec5-3f9b-475d-b72e-e082c6a532e4",
   "metadata": {},
   "outputs": [],
   "source": []
  }
 ],
 "metadata": {
  "kernelspec": {
   "display_name": "Python 3 (ipykernel)",
   "language": "python",
   "name": "python3"
  },
  "language_info": {
   "codemirror_mode": {
    "name": "ipython",
    "version": 3
   },
   "file_extension": ".py",
   "mimetype": "text/x-python",
   "name": "python",
   "nbconvert_exporter": "python",
   "pygments_lexer": "ipython3",
   "version": "3.12.7"
  }
 },
 "nbformat": 4,
 "nbformat_minor": 5
}
